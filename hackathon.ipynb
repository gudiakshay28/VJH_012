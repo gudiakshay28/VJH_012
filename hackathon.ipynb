{
 "cells": [
  {
   "cell_type": "code",
   "execution_count": 1,
   "id": "680979de",
   "metadata": {},
   "outputs": [
    {
     "name": "stdout",
     "output_type": "stream",
     "text": [
      "Requirement already satisfied: librosa in c:\\users\\fujitsu\\appdata\\local\\programs\\python\\python38\\lib\\site-packages (0.8.1)\n",
      "Requirement already satisfied: soundfile in c:\\users\\fujitsu\\appdata\\local\\programs\\python\\python38\\lib\\site-packages (0.10.3.post1)\n",
      "Requirement already satisfied: numpy in c:\\users\\fujitsu\\appdata\\local\\programs\\python\\python38\\lib\\site-packages (1.19.5)\n",
      "Requirement already satisfied: sklearn in c:\\users\\fujitsu\\appdata\\local\\programs\\python\\python38\\lib\\site-packages (0.0)\n",
      "Requirement already satisfied: decorator>=3.0.0 in c:\\users\\fujitsu\\appdata\\local\\programs\\python\\python38\\lib\\site-packages (from librosa) (5.0.7)\n",
      "Requirement already satisfied: packaging>=20.0 in c:\\users\\fujitsu\\appdata\\local\\programs\\python\\python38\\lib\\site-packages (from librosa) (20.9)\n",
      "Requirement already satisfied: numba>=0.43.0 in c:\\users\\fujitsu\\appdata\\local\\programs\\python\\python38\\lib\\site-packages (from librosa) (0.54.1)\n",
      "Requirement already satisfied: scipy>=1.0.0 in c:\\users\\fujitsu\\appdata\\local\\programs\\python\\python38\\lib\\site-packages (from librosa) (1.6.2)\n",
      "Requirement already satisfied: audioread>=2.0.0 in c:\\users\\fujitsu\\appdata\\local\\programs\\python\\python38\\lib\\site-packages (from librosa) (2.1.9)\n",
      "Requirement already satisfied: scikit-learn!=0.19.0,>=0.14.0 in c:\\users\\fujitsu\\appdata\\local\\programs\\python\\python38\\lib\\site-packages (from librosa) (0.24.2)\n",
      "Requirement already satisfied: joblib>=0.14 in c:\\users\\fujitsu\\appdata\\local\\programs\\python\\python38\\lib\\site-packages (from librosa) (1.0.1)\n",
      "Requirement already satisfied: resampy>=0.2.2 in c:\\users\\fujitsu\\appdata\\local\\programs\\python\\python38\\lib\\site-packages (from librosa) (0.2.2)\n",
      "Requirement already satisfied: pooch>=1.0 in c:\\users\\fujitsu\\appdata\\local\\programs\\python\\python38\\lib\\site-packages (from librosa) (1.5.2)\n",
      "Requirement already satisfied: cffi>=1.0 in c:\\users\\fujitsu\\appdata\\local\\programs\\python\\python38\\lib\\site-packages (from soundfile) (1.14.5)\n",
      "Requirement already satisfied: pycparser in c:\\users\\fujitsu\\appdata\\local\\programs\\python\\python38\\lib\\site-packages (from cffi>=1.0->soundfile) (2.20)\n",
      "Requirement already satisfied: setuptools in c:\\users\\fujitsu\\appdata\\local\\programs\\python\\python38\\lib\\site-packages (from numba>=0.43.0->librosa) (47.1.0)\n",
      "Requirement already satisfied: llvmlite<0.38,>=0.37.0rc1 in c:\\users\\fujitsu\\appdata\\local\\programs\\python\\python38\\lib\\site-packages (from numba>=0.43.0->librosa) (0.37.0)\n",
      "Requirement already satisfied: pyparsing>=2.0.2 in c:\\users\\fujitsu\\appdata\\local\\programs\\python\\python38\\lib\\site-packages (from packaging>=20.0->librosa) (2.4.7)\n",
      "Requirement already satisfied: requests in c:\\users\\fujitsu\\appdata\\local\\programs\\python\\python38\\lib\\site-packages (from pooch>=1.0->librosa) (2.25.1)\n",
      "Requirement already satisfied: appdirs in c:\\users\\fujitsu\\appdata\\local\\programs\\python\\python38\\lib\\site-packages (from pooch>=1.0->librosa) (1.4.4)\n",
      "Requirement already satisfied: six>=1.3 in c:\\users\\fujitsu\\appdata\\local\\programs\\python\\python38\\lib\\site-packages (from resampy>=0.2.2->librosa) (1.15.0)\n",
      "Requirement already satisfied: threadpoolctl>=2.0.0 in c:\\users\\fujitsu\\appdata\\local\\programs\\python\\python38\\lib\\site-packages (from scikit-learn!=0.19.0,>=0.14.0->librosa) (2.1.0)\n",
      "Requirement already satisfied: chardet<5,>=3.0.2 in c:\\users\\fujitsu\\appdata\\local\\programs\\python\\python38\\lib\\site-packages (from requests->pooch>=1.0->librosa) (4.0.0)\n",
      "Requirement already satisfied: idna<3,>=2.5 in c:\\users\\fujitsu\\appdata\\local\\programs\\python\\python38\\lib\\site-packages (from requests->pooch>=1.0->librosa) (2.10)\n",
      "Requirement already satisfied: urllib3<1.27,>=1.21.1 in c:\\users\\fujitsu\\appdata\\local\\programs\\python\\python38\\lib\\site-packages (from requests->pooch>=1.0->librosa) (1.26.4)\n",
      "Requirement already satisfied: certifi>=2017.4.17 in c:\\users\\fujitsu\\appdata\\local\\programs\\python\\python38\\lib\\site-packages (from requests->pooch>=1.0->librosa) (2020.12.5)\n"
     ]
    }
   ],
   "source": [
    "!pip install librosa soundfile numpy sklearn "
   ]
  },
  {
   "cell_type": "code",
   "execution_count": 2,
   "id": "82408228",
   "metadata": {},
   "outputs": [
    {
     "name": "stdout",
     "output_type": "stream",
     "text": [
      "Requirement already satisfied: pipwin in c:\\users\\fujitsu\\appdata\\local\\programs\\python\\python38\\lib\\site-packages (0.5.1)\n",
      "Requirement already satisfied: packaging in c:\\users\\fujitsu\\appdata\\local\\programs\\python\\python38\\lib\\site-packages (from pipwin) (20.9)\n",
      "Requirement already satisfied: pyprind in c:\\users\\fujitsu\\appdata\\local\\programs\\python\\python38\\lib\\site-packages (from pipwin) (2.11.3)\n",
      "Requirement already satisfied: pySmartDL>=1.3.1 in c:\\users\\fujitsu\\appdata\\local\\programs\\python\\python38\\lib\\site-packages (from pipwin) (1.3.4)\n",
      "Requirement already satisfied: docopt in c:\\users\\fujitsu\\appdata\\local\\programs\\python\\python38\\lib\\site-packages (from pipwin) (0.6.2)\n",
      "Requirement already satisfied: requests in c:\\users\\fujitsu\\appdata\\local\\programs\\python\\python38\\lib\\site-packages (from pipwin) (2.25.1)\n",
      "Requirement already satisfied: js2py in c:\\users\\fujitsu\\appdata\\local\\programs\\python\\python38\\lib\\site-packages (from pipwin) (0.71)\n",
      "Requirement already satisfied: beautifulsoup4>=4.9.0 in c:\\users\\fujitsu\\appdata\\local\\programs\\python\\python38\\lib\\site-packages (from pipwin) (4.10.0)\n",
      "Requirement already satisfied: six in c:\\users\\fujitsu\\appdata\\local\\programs\\python\\python38\\lib\\site-packages (from pipwin) (1.15.0)\n",
      "Requirement already satisfied: soupsieve>1.2 in c:\\users\\fujitsu\\appdata\\local\\programs\\python\\python38\\lib\\site-packages (from beautifulsoup4>=4.9.0->pipwin) (2.2.1)\n",
      "Requirement already satisfied: tzlocal>=1.2 in c:\\users\\fujitsu\\appdata\\local\\programs\\python\\python38\\lib\\site-packages (from js2py->pipwin) (4.0.2)\n",
      "Requirement already satisfied: pyjsparser>=2.5.1 in c:\\users\\fujitsu\\appdata\\local\\programs\\python\\python38\\lib\\site-packages (from js2py->pipwin) (2.7.1)\n",
      "Requirement already satisfied: pyparsing>=2.0.2 in c:\\users\\fujitsu\\appdata\\local\\programs\\python\\python38\\lib\\site-packages (from packaging->pipwin) (2.4.7)\n",
      "Requirement already satisfied: idna<3,>=2.5 in c:\\users\\fujitsu\\appdata\\local\\programs\\python\\python38\\lib\\site-packages (from requests->pipwin) (2.10)\n",
      "Requirement already satisfied: urllib3<1.27,>=1.21.1 in c:\\users\\fujitsu\\appdata\\local\\programs\\python\\python38\\lib\\site-packages (from requests->pipwin) (1.26.4)\n",
      "Requirement already satisfied: certifi>=2017.4.17 in c:\\users\\fujitsu\\appdata\\local\\programs\\python\\python38\\lib\\site-packages (from requests->pipwin) (2020.12.5)\n",
      "Requirement already satisfied: chardet<5,>=3.0.2 in c:\\users\\fujitsu\\appdata\\local\\programs\\python\\python38\\lib\\site-packages (from requests->pipwin) (4.0.0)\n",
      "Requirement already satisfied: pytz-deprecation-shim in c:\\users\\fujitsu\\appdata\\local\\programs\\python\\python38\\lib\\site-packages (from tzlocal>=1.2->js2py->pipwin) (0.1.0.post0)\n",
      "Requirement already satisfied: backports.zoneinfo in c:\\users\\fujitsu\\appdata\\local\\programs\\python\\python38\\lib\\site-packages (from tzlocal>=1.2->js2py->pipwin) (0.2.1)\n",
      "Requirement already satisfied: tzdata in c:\\users\\fujitsu\\appdata\\local\\programs\\python\\python38\\lib\\site-packages (from tzlocal>=1.2->js2py->pipwin) (2021.5)\n",
      "Package `pyaudio` found in cache\n",
      "Downloading package . . .\n",
      "https://download.lfd.uci.edu/pythonlibs/w6tyco5e/PyAudio-0.2.11-cp38-cp38-win_amd64.whl\n",
      "PyAudio-0.2.11-cp38-cp38-win_amd64.whl\n",
      "[*] 0 bytes / 110 kB @ 0 bytes/s [------------------] [0.0%, 0s left]   [*] 0 bytes / 110 kB @ 0 bytes/s [------------------] [0.0%, 0s left]   [*] 0 bytes / 110 kB @ 0 bytes/s [------------------] [0.0%, 0s left]   [*] 0 bytes / 110 kB @ 0 bytes/s [------------------] [0.0%, 0s left]   [*] 0 bytes / 110 kB @ 0 bytes/s [------------------] [0.0%, 0s left]   [*] 0 bytes / 110 kB @ 0 bytes/s [------------------] [0.0%, 0s left]   [*] 0 bytes / 110 kB @ 0 bytes/s [------------------] [0.0%, 0s left]   [*] 0 bytes / 110 kB @ 0 bytes/s [------------------] [0.0%, 0s left]   [*] 0 bytes / 110 kB @ 0 bytes/s [------------------] [0.0%, 0s left]   [*] 0 bytes / 110 kB @ 0 bytes/s [------------------] [0.0%, 0s left]   [*] 0 bytes / 110 kB @ 0 bytes/s [------------------] [0.0%, 0s left]   [*] 0 bytes / 110 kB @ 0 bytes/s [------------------] [0.0%, 0s left]   [*] 8 kB / 110 kB @ 6 kB/s [#-----------------] [7.3%, 0s left]   [*] 8 kB / 110 kB @ 6 kB/s [#-----------------] [7.3%, 0s left]   [*] 40 kB / 110 kB @ 27 kB/s [######------------] [36.4%, 0s left]  [*] 40 kB / 110 kB @ 25 kB/s [######------------] [36.4%, 0s left]  Processing c:\\users\\fujitsu\\pipwin\\pyaudio-0.2.11-cp38-cp38-win_amd64.whl\n",
      "PyAudio is already installed with the same version as the provided wheel. Use --force-reinstall to force an installation of the wheel.\n",
      "[*] 110 kB / 110 kB @ 25 kB/s [##################] [100%, 0s left]    \n"
     ]
    }
   ],
   "source": [
    "!pip install pipwin\n",
    "!pipwin install pyaudio"
   ]
  },
  {
   "cell_type": "code",
   "execution_count": 3,
   "id": "fba419c5",
   "metadata": {},
   "outputs": [],
   "source": [
    "import librosa\n",
    "import soundfile"
   ]
  },
  {
   "cell_type": "code",
   "execution_count": 4,
   "id": "31754d16",
   "metadata": {},
   "outputs": [],
   "source": [
    "import numpy as np\n",
    "import pandas as pd\n"
   ]
  },
  {
   "cell_type": "code",
   "execution_count": 5,
   "id": "a6cdd608",
   "metadata": {},
   "outputs": [],
   "source": [
    "# we need to use three features of a sound file, which are mfcc:Mel Frequency Cepsral Coefficient\n",
    "# which represents the short-term power spectrum of a sound \n",
    "# about mfccc:wikipedia link - https://en.wikipedia.org/wiki/Mel-frequency_cepstrum \n",
    "# 2nd feature is chroma: pertains to 12 different pitch classes\n",
    "# 3rd feature is mel: Mel spectrogram Frequency\n"
   ]
  },
  {
   "cell_type": "code",
   "execution_count": 6,
   "id": "3470be8b",
   "metadata": {},
   "outputs": [],
   "source": [
    "# we need some to import some modules necessary to train a model\n",
    "from sklearn.model_selection import train_test_split\n",
    "from sklearn.metrics import accuracy_score\n"
   ]
  },
  {
   "cell_type": "code",
   "execution_count": 7,
   "id": "719c1db2",
   "metadata": {},
   "outputs": [],
   "source": [
    "# we are going to use neural network for detecting stress or mood of a user\n",
    "# we are going to use MLPclassifier\n",
    "from sklearn.neural_network import MLPClassifier\n"
   ]
  },
  {
   "cell_type": "code",
   "execution_count": 8,
   "id": "d35c3650",
   "metadata": {},
   "outputs": [],
   "source": [
    "# so we need to extract those three features from a sound file which are mfcc,chroma,mel\n",
    "# first parameter is the sound file name, and the rest three are boolean parameters \n",
    "def function_extracting_features(file,mfcc,chroma,mel):\n",
    "    with soundfile.SoundFile(file) as file_sound: \n",
    "        read_sound_file = file_sound.read(dtype = 'float32')\n",
    "        sample_rate = file_sound.samplerate \n",
    "        final = np.array([])\n",
    "        if chroma:\n",
    "            # if chroma is true then, we need to get the short time fourier transformation of read_sound_file\n",
    "            short_tft = np.abs(librosa.stft(read_sound_file))\n",
    "        if mfcc:\n",
    "            # if mfcc is true then call the librosa.feature.mfcc and get mean value of it\n",
    "            mfccs = np.mean(librosa.feature.mfcc(y=read_sound_file, sr=sample_rate, n_mfcc=40).T, axis=0)\n",
    "            final = np.hstack((final, mfcss))\n",
    "        if chroma:\n",
    "            chroma = np.mean(librosa.feature.chroma_stft(S=short_tft, sr=sample_rate).T, axis=0)\n",
    "            final = np.hstack((final,chroma))\n",
    "\n",
    "        if mel:\n",
    "            mel_new = np.mean(librosa.feature.melspecrogram(read_sound_file, sr=sample_rate).T, axis=0)\n",
    "            final = np.hstack((final, mel_new))\n",
    "\n",
    "        return final\n",
    "        \n",
    "    \n",
    "        \n",
    "        "
   ]
  },
  {
   "cell_type": "code",
   "execution_count": 9,
   "id": "4065f8e5",
   "metadata": {},
   "outputs": [],
   "source": [
    "# now we will create a dictionary to hold numbers and emotions that are present in ravdess dataset\n",
    "\n",
    "feelings = {\n",
    "    '01':'neutral',\n",
    "    '02':'calm',\n",
    "    '03':'happy',\n",
    "    '04':'sad',\n",
    "    '05':'angry',\n",
    "    '06':'fearful',\n",
    "    '07':'disgust',\n",
    "    '08':'surprised'\n",
    "}\n",
    "# we are going to observe only stressful emotions\n",
    "observed_feelings = ['sad','angry','fearful']"
   ]
  },
  {
   "cell_type": "code",
   "execution_count": 10,
   "id": "fadf136f",
   "metadata": {},
   "outputs": [],
   "source": [
    "# now we should load the ravdess data and the number in the feelings dictionary and the data files \n",
    "# contain the number with dashed in between eg: 01-02-01-07.wvl\n",
    "import os,glob,pickle\n",
    "def load_data_from_dataset(test_size=0.2):\n",
    "    X=[]\n",
    "    Y=[]\n",
    "    for sound_file in glob.glob(\"E:\\vjhackaton\\VJH_012\\dataset\\Actor_*\\\\*.wav\"):\n",
    "        sound_file_name = os.path.basename(sound_file)\n",
    "        feeling = feelings[sound_file_name.split(\"-\")[2]]\n",
    "        if feeling not in observed_feelings:\n",
    "            continue\n",
    "        feature = function_extracting_features(sound_file_name, mfcc=True,chroma=True,mel=True)\n",
    "        X.append(feature)\n",
    "        Y.append(feeling)\n",
    "    return train_test_split(np.array(X),Y,test_size=test_size,random_state=9)\n",
    "\n",
    "        \n",
    "        \n",
    "        \n",
    "        "
   ]
  },
  {
   "cell_type": "code",
   "execution_count": 11,
   "id": "5dcbecee",
   "metadata": {},
   "outputs": [
    {
     "ename": "ValueError",
     "evalue": "With n_samples=0, test_size=0.2 and train_size=None, the resulting train set will be empty. Adjust any of the aforementioned parameters.",
     "output_type": "error",
     "traceback": [
      "\u001b[1;31m---------------------------------------------------------------------------\u001b[0m",
      "\u001b[1;31mValueError\u001b[0m                                Traceback (most recent call last)",
      "\u001b[1;32m<ipython-input-11-8f4bcaa068ac>\u001b[0m in \u001b[0;36m<module>\u001b[1;34m\u001b[0m\n\u001b[0;32m      1\u001b[0m \u001b[1;31m# splitting the dataset into train and test\u001b[0m\u001b[1;33m\u001b[0m\u001b[1;33m\u001b[0m\u001b[1;33m\u001b[0m\u001b[0m\n\u001b[1;32m----> 2\u001b[1;33m \u001b[0mx_train\u001b[0m\u001b[1;33m,\u001b[0m\u001b[0my_train\u001b[0m\u001b[1;33m,\u001b[0m\u001b[0mx_test\u001b[0m\u001b[1;33m,\u001b[0m\u001b[0my_test\u001b[0m \u001b[1;33m=\u001b[0m \u001b[0mload_data_from_dataset\u001b[0m\u001b[1;33m(\u001b[0m\u001b[1;36m0.2\u001b[0m\u001b[1;33m)\u001b[0m\u001b[1;33m\u001b[0m\u001b[1;33m\u001b[0m\u001b[0m\n\u001b[0m",
      "\u001b[1;32m<ipython-input-10-c0f1848d83aa>\u001b[0m in \u001b[0;36mload_data_from_dataset\u001b[1;34m(test_size)\u001b[0m\n\u001b[0;32m     13\u001b[0m         \u001b[0mX\u001b[0m\u001b[1;33m.\u001b[0m\u001b[0mappend\u001b[0m\u001b[1;33m(\u001b[0m\u001b[0mfeature\u001b[0m\u001b[1;33m)\u001b[0m\u001b[1;33m\u001b[0m\u001b[1;33m\u001b[0m\u001b[0m\n\u001b[0;32m     14\u001b[0m         \u001b[0mY\u001b[0m\u001b[1;33m.\u001b[0m\u001b[0mappend\u001b[0m\u001b[1;33m(\u001b[0m\u001b[0mfeeling\u001b[0m\u001b[1;33m)\u001b[0m\u001b[1;33m\u001b[0m\u001b[1;33m\u001b[0m\u001b[0m\n\u001b[1;32m---> 15\u001b[1;33m     \u001b[1;32mreturn\u001b[0m \u001b[0mtrain_test_split\u001b[0m\u001b[1;33m(\u001b[0m\u001b[0mnp\u001b[0m\u001b[1;33m.\u001b[0m\u001b[0marray\u001b[0m\u001b[1;33m(\u001b[0m\u001b[0mX\u001b[0m\u001b[1;33m)\u001b[0m\u001b[1;33m,\u001b[0m\u001b[0mY\u001b[0m\u001b[1;33m,\u001b[0m\u001b[0mtest_size\u001b[0m\u001b[1;33m=\u001b[0m\u001b[0mtest_size\u001b[0m\u001b[1;33m,\u001b[0m\u001b[0mrandom_state\u001b[0m\u001b[1;33m=\u001b[0m\u001b[1;36m9\u001b[0m\u001b[1;33m)\u001b[0m\u001b[1;33m\u001b[0m\u001b[1;33m\u001b[0m\u001b[0m\n\u001b[0m\u001b[0;32m     16\u001b[0m \u001b[1;33m\u001b[0m\u001b[0m\n\u001b[0;32m     17\u001b[0m \u001b[1;33m\u001b[0m\u001b[0m\n",
      "\u001b[1;32mc:\\users\\fujitsu\\appdata\\local\\programs\\python\\python38\\lib\\site-packages\\sklearn\\model_selection\\_split.py\u001b[0m in \u001b[0;36mtrain_test_split\u001b[1;34m(test_size, train_size, random_state, shuffle, stratify, *arrays)\u001b[0m\n\u001b[0;32m   2173\u001b[0m \u001b[1;33m\u001b[0m\u001b[0m\n\u001b[0;32m   2174\u001b[0m     \u001b[0mn_samples\u001b[0m \u001b[1;33m=\u001b[0m \u001b[0m_num_samples\u001b[0m\u001b[1;33m(\u001b[0m\u001b[0marrays\u001b[0m\u001b[1;33m[\u001b[0m\u001b[1;36m0\u001b[0m\u001b[1;33m]\u001b[0m\u001b[1;33m)\u001b[0m\u001b[1;33m\u001b[0m\u001b[1;33m\u001b[0m\u001b[0m\n\u001b[1;32m-> 2175\u001b[1;33m     n_train, n_test = _validate_shuffle_split(n_samples, test_size, train_size,\n\u001b[0m\u001b[0;32m   2176\u001b[0m                                               default_test_size=0.25)\n\u001b[0;32m   2177\u001b[0m \u001b[1;33m\u001b[0m\u001b[0m\n",
      "\u001b[1;32mc:\\users\\fujitsu\\appdata\\local\\programs\\python\\python38\\lib\\site-packages\\sklearn\\model_selection\\_split.py\u001b[0m in \u001b[0;36m_validate_shuffle_split\u001b[1;34m(n_samples, test_size, train_size, default_test_size)\u001b[0m\n\u001b[0;32m   1855\u001b[0m \u001b[1;33m\u001b[0m\u001b[0m\n\u001b[0;32m   1856\u001b[0m     \u001b[1;32mif\u001b[0m \u001b[0mn_train\u001b[0m \u001b[1;33m==\u001b[0m \u001b[1;36m0\u001b[0m\u001b[1;33m:\u001b[0m\u001b[1;33m\u001b[0m\u001b[1;33m\u001b[0m\u001b[0m\n\u001b[1;32m-> 1857\u001b[1;33m         raise ValueError(\n\u001b[0m\u001b[0;32m   1858\u001b[0m             \u001b[1;34m'With n_samples={}, test_size={} and train_size={}, the '\u001b[0m\u001b[1;33m\u001b[0m\u001b[1;33m\u001b[0m\u001b[0m\n\u001b[0;32m   1859\u001b[0m             \u001b[1;34m'resulting train set will be empty. Adjust any of the '\u001b[0m\u001b[1;33m\u001b[0m\u001b[1;33m\u001b[0m\u001b[0m\n",
      "\u001b[1;31mValueError\u001b[0m: With n_samples=0, test_size=0.2 and train_size=None, the resulting train set will be empty. Adjust any of the aforementioned parameters."
     ]
    }
   ],
   "source": [
    "# splitting the dataset into train and test \n",
    "x_train,y_train,x_test,y_test = load_data_from_dataset(0.2)"
   ]
  },
  {
   "cell_type": "code",
   "execution_count": null,
   "id": "dbae3b55",
   "metadata": {},
   "outputs": [],
   "source": []
  }
 ],
 "metadata": {
  "kernelspec": {
   "display_name": "Python 3",
   "language": "python",
   "name": "python3"
  },
  "language_info": {
   "codemirror_mode": {
    "name": "ipython",
    "version": 3
   },
   "file_extension": ".py",
   "mimetype": "text/x-python",
   "name": "python",
   "nbconvert_exporter": "python",
   "pygments_lexer": "ipython3",
   "version": "3.8.4"
  }
 },
 "nbformat": 4,
 "nbformat_minor": 5
}
