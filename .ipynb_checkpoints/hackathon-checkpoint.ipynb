{
 "cells": [
  {
   "cell_type": "code",
   "execution_count": 1,
   "id": "b5215d3a",
   "metadata": {},
   "outputs": [
    {
     "name": "stdout",
     "output_type": "stream",
     "text": [
      "Requirement already satisfied: librosa in c:\\users\\fujitsu\\appdata\\local\\programs\\python\\python38\\lib\\site-packages (0.8.1)\n",
      "Requirement already satisfied: soundfile in c:\\users\\fujitsu\\appdata\\local\\programs\\python\\python38\\lib\\site-packages (0.10.3.post1)\n",
      "Requirement already satisfied: numpy in c:\\users\\fujitsu\\appdata\\local\\programs\\python\\python38\\lib\\site-packages (1.19.5)\n",
      "Requirement already satisfied: sklearn in c:\\users\\fujitsu\\appdata\\local\\programs\\python\\python38\\lib\\site-packages (0.0)\n",
      "Collecting pyaudio\n",
      "  Using cached PyAudio-0.2.11.tar.gz (37 kB)\n",
      "  Preparing metadata (setup.py): started\n",
      "  Preparing metadata (setup.py): finished with status 'done'\n",
      "Requirement already satisfied: scipy>=1.0.0 in c:\\users\\fujitsu\\appdata\\local\\programs\\python\\python38\\lib\\site-packages (from librosa) (1.6.2)\n",
      "Requirement already satisfied: audioread>=2.0.0 in c:\\users\\fujitsu\\appdata\\local\\programs\\python\\python38\\lib\\site-packages (from librosa) (2.1.9)\n",
      "Requirement already satisfied: resampy>=0.2.2 in c:\\users\\fujitsu\\appdata\\local\\programs\\python\\python38\\lib\\site-packages (from librosa) (0.2.2)\n",
      "Requirement already satisfied: pooch>=1.0 in c:\\users\\fujitsu\\appdata\\local\\programs\\python\\python38\\lib\\site-packages (from librosa) (1.5.2)\n",
      "Requirement already satisfied: packaging>=20.0 in c:\\users\\fujitsu\\appdata\\local\\programs\\python\\python38\\lib\\site-packages (from librosa) (20.9)\n",
      "Requirement already satisfied: decorator>=3.0.0 in c:\\users\\fujitsu\\appdata\\local\\programs\\python\\python38\\lib\\site-packages (from librosa) (5.0.7)\n",
      "Requirement already satisfied: numba>=0.43.0 in c:\\users\\fujitsu\\appdata\\local\\programs\\python\\python38\\lib\\site-packages (from librosa) (0.54.1)\n",
      "Requirement already satisfied: joblib>=0.14 in c:\\users\\fujitsu\\appdata\\local\\programs\\python\\python38\\lib\\site-packages (from librosa) (1.0.1)\n",
      "Requirement already satisfied: scikit-learn!=0.19.0,>=0.14.0 in c:\\users\\fujitsu\\appdata\\local\\programs\\python\\python38\\lib\\site-packages (from librosa) (0.24.2)\n",
      "Requirement already satisfied: cffi>=1.0 in c:\\users\\fujitsu\\appdata\\local\\programs\\python\\python38\\lib\\site-packages (from soundfile) (1.14.5)\n",
      "Requirement already satisfied: pycparser in c:\\users\\fujitsu\\appdata\\local\\programs\\python\\python38\\lib\\site-packages (from cffi>=1.0->soundfile) (2.20)\n",
      "Requirement already satisfied: llvmlite<0.38,>=0.37.0rc1 in c:\\users\\fujitsu\\appdata\\local\\programs\\python\\python38\\lib\\site-packages (from numba>=0.43.0->librosa) (0.37.0)\n",
      "Requirement already satisfied: setuptools in c:\\users\\fujitsu\\appdata\\local\\programs\\python\\python38\\lib\\site-packages (from numba>=0.43.0->librosa) (47.1.0)\n",
      "Requirement already satisfied: pyparsing>=2.0.2 in c:\\users\\fujitsu\\appdata\\local\\programs\\python\\python38\\lib\\site-packages (from packaging>=20.0->librosa) (2.4.7)\n",
      "Requirement already satisfied: appdirs in c:\\users\\fujitsu\\appdata\\local\\programs\\python\\python38\\lib\\site-packages (from pooch>=1.0->librosa) (1.4.4)\n",
      "Requirement already satisfied: requests in c:\\users\\fujitsu\\appdata\\local\\programs\\python\\python38\\lib\\site-packages (from pooch>=1.0->librosa) (2.25.1)\n",
      "Requirement already satisfied: six>=1.3 in c:\\users\\fujitsu\\appdata\\local\\programs\\python\\python38\\lib\\site-packages (from resampy>=0.2.2->librosa) (1.15.0)\n",
      "Requirement already satisfied: threadpoolctl>=2.0.0 in c:\\users\\fujitsu\\appdata\\local\\programs\\python\\python38\\lib\\site-packages (from scikit-learn!=0.19.0,>=0.14.0->librosa) (2.1.0)\n",
      "Requirement already satisfied: idna<3,>=2.5 in c:\\users\\fujitsu\\appdata\\local\\programs\\python\\python38\\lib\\site-packages (from requests->pooch>=1.0->librosa) (2.10)\n",
      "Requirement already satisfied: certifi>=2017.4.17 in c:\\users\\fujitsu\\appdata\\local\\programs\\python\\python38\\lib\\site-packages (from requests->pooch>=1.0->librosa) (2020.12.5)\n",
      "Requirement already satisfied: chardet<5,>=3.0.2 in c:\\users\\fujitsu\\appdata\\local\\programs\\python\\python38\\lib\\site-packages (from requests->pooch>=1.0->librosa) (4.0.0)\n",
      "Requirement already satisfied: urllib3<1.27,>=1.21.1 in c:\\users\\fujitsu\\appdata\\local\\programs\\python\\python38\\lib\\site-packages (from requests->pooch>=1.0->librosa) (1.26.4)\n",
      "Building wheels for collected packages: pyaudio\n",
      "  Building wheel for pyaudio (setup.py): started"
     ]
    },
    {
     "name": "stderr",
     "output_type": "stream",
     "text": [
      "  ERROR: Command errored out with exit status 1:\n",
      "   command: 'c:\\users\\fujitsu\\appdata\\local\\programs\\python\\python38\\python.exe' -u -c 'import io, os, sys, setuptools, tokenize; sys.argv[0] = '\"'\"'C:\\\\Users\\\\FUJITSU\\\\AppData\\\\Local\\\\Temp\\\\pip-install-plfkibxx\\\\pyaudio_5f5c02bc847b4fedb030ae8501a9e70a\\\\setup.py'\"'\"'; __file__='\"'\"'C:\\\\Users\\\\FUJITSU\\\\AppData\\\\Local\\\\Temp\\\\pip-install-plfkibxx\\\\pyaudio_5f5c02bc847b4fedb030ae8501a9e70a\\\\setup.py'\"'\"';f = getattr(tokenize, '\"'\"'open'\"'\"', open)(__file__) if os.path.exists(__file__) else io.StringIO('\"'\"'from setuptools import setup; setup()'\"'\"');code = f.read().replace('\"'\"'\\r\\n'\"'\"', '\"'\"'\\n'\"'\"');f.close();exec(compile(code, __file__, '\"'\"'exec'\"'\"'))' bdist_wheel -d 'C:\\Users\\FUJITSU\\AppData\\Local\\Temp\\pip-wheel-gkl9wb6s'\n",
      "       cwd: C:\\Users\\FUJITSU\\AppData\\Local\\Temp\\pip-install-plfkibxx\\pyaudio_5f5c02bc847b4fedb030ae8501a9e70a\\\n",
      "  Complete output (9 lines):\n",
      "  running bdist_wheel\n",
      "  running build\n",
      "  running build_py\n",
      "  creating build\n",
      "  creating build\\lib.win-amd64-3.8\n",
      "  copying src\\pyaudio.py -> build\\lib.win-amd64-3.8\n",
      "  running build_ext\n",
      "  building '_portaudio' extension\n",
      "  error: Microsoft Visual C++ 14.0 is required. Get it with \"Build Tools for Visual Studio\": https://visualstudio.microsoft.com/downloads/\n",
      "  ----------------------------------------\n",
      "  ERROR: Failed building wheel for pyaudio\n",
      "    ERROR: Command errored out with exit status 1:\n",
      "     command: 'c:\\users\\fujitsu\\appdata\\local\\programs\\python\\python38\\python.exe' -u -c 'import io, os, sys, setuptools, tokenize; sys.argv[0] = '\"'\"'C:\\\\Users\\\\FUJITSU\\\\AppData\\\\Local\\\\Temp\\\\pip-install-plfkibxx\\\\pyaudio_5f5c02bc847b4fedb030ae8501a9e70a\\\\setup.py'\"'\"'; __file__='\"'\"'C:\\\\Users\\\\FUJITSU\\\\AppData\\\\Local\\\\Temp\\\\pip-install-plfkibxx\\\\pyaudio_5f5c02bc847b4fedb030ae8501a9e70a\\\\setup.py'\"'\"';f = getattr(tokenize, '\"'\"'open'\"'\"', open)(__file__) if os.path.exists(__file__) else io.StringIO('\"'\"'from setuptools import setup; setup()'\"'\"');code = f.read().replace('\"'\"'\\r\\n'\"'\"', '\"'\"'\\n'\"'\"');f.close();exec(compile(code, __file__, '\"'\"'exec'\"'\"'))' install --record 'C:\\Users\\FUJITSU\\AppData\\Local\\Temp\\pip-record-qxfi0b75\\install-record.txt' --single-version-externally-managed --compile --install-headers 'c:\\users\\fujitsu\\appdata\\local\\programs\\python\\python38\\Include\\pyaudio'\n",
      "         cwd: C:\\Users\\FUJITSU\\AppData\\Local\\Temp\\pip-install-plfkibxx\\pyaudio_5f5c02bc847b4fedb030ae8501a9e70a\\\n",
      "    Complete output (9 lines):\n",
      "    running install\n",
      "    running build"
     ]
    },
    {
     "name": "stdout",
     "output_type": "stream",
     "text": [
      "\n",
      "  Building wheel for pyaudio (setup.py): finished with status 'error'\n",
      "  Running setup.py clean for pyaudio\n",
      "Failed to build pyaudio\n",
      "Installing collected packages: pyaudio\n",
      "    Running setup.py install for pyaudio: started\n",
      "    Running setup.py install for pyaudio: finished with status 'error'\n"
     ]
    },
    {
     "name": "stderr",
     "output_type": "stream",
     "text": [
      "\n",
      "    running build_py\n",
      "    creating build\n",
      "    creating build\\lib.win-amd64-3.8\n",
      "    copying src\\pyaudio.py -> build\\lib.win-amd64-3.8\n",
      "    running build_ext\n",
      "    building '_portaudio' extension\n",
      "    error: Microsoft Visual C++ 14.0 is required. Get it with \"Build Tools for Visual Studio\": https://visualstudio.microsoft.com/downloads/\n",
      "    ----------------------------------------\n",
      "ERROR: Command errored out with exit status 1: 'c:\\users\\fujitsu\\appdata\\local\\programs\\python\\python38\\python.exe' -u -c 'import io, os, sys, setuptools, tokenize; sys.argv[0] = '\"'\"'C:\\\\Users\\\\FUJITSU\\\\AppData\\\\Local\\\\Temp\\\\pip-install-plfkibxx\\\\pyaudio_5f5c02bc847b4fedb030ae8501a9e70a\\\\setup.py'\"'\"'; __file__='\"'\"'C:\\\\Users\\\\FUJITSU\\\\AppData\\\\Local\\\\Temp\\\\pip-install-plfkibxx\\\\pyaudio_5f5c02bc847b4fedb030ae8501a9e70a\\\\setup.py'\"'\"';f = getattr(tokenize, '\"'\"'open'\"'\"', open)(__file__) if os.path.exists(__file__) else io.StringIO('\"'\"'from setuptools import setup; setup()'\"'\"');code = f.read().replace('\"'\"'\\r\\n'\"'\"', '\"'\"'\\n'\"'\"');f.close();exec(compile(code, __file__, '\"'\"'exec'\"'\"'))' install --record 'C:\\Users\\FUJITSU\\AppData\\Local\\Temp\\pip-record-qxfi0b75\\install-record.txt' --single-version-externally-managed --compile --install-headers 'c:\\users\\fujitsu\\appdata\\local\\programs\\python\\python38\\Include\\pyaudio' Check the logs for full command output.\n"
     ]
    }
   ],
   "source": [
    "!pip install librosa soundfile numpy sklearn pyaudio"
   ]
  },
  {
   "cell_type": "code",
   "execution_count": 2,
   "id": "b3672e2d",
   "metadata": {},
   "outputs": [
    {
     "name": "stdout",
     "output_type": "stream",
     "text": [
      "Collecting pipwin\n",
      "  Downloading pipwin-0.5.1.tar.gz (8.8 kB)\n",
      "  Preparing metadata (setup.py): started\n",
      "  Preparing metadata (setup.py): finished with status 'done'\n",
      "Collecting docopt\n",
      "  Using cached docopt-0.6.2-py2.py3-none-any.whl\n",
      "Requirement already satisfied: requests in c:\\users\\fujitsu\\appdata\\local\\programs\\python\\python38\\lib\\site-packages (from pipwin) (2.25.1)\n",
      "Collecting pyprind\n",
      "  Downloading PyPrind-2.11.3-py2.py3-none-any.whl (8.4 kB)\n",
      "Requirement already satisfied: six in c:\\users\\fujitsu\\appdata\\local\\programs\\python\\python38\\lib\\site-packages (from pipwin) (1.15.0)\n",
      "Collecting beautifulsoup4>=4.9.0\n",
      "  Downloading beautifulsoup4-4.10.0-py3-none-any.whl (97 kB)\n",
      "Collecting js2py\n",
      "  Downloading Js2Py-0.71-py3-none-any.whl (1.0 MB)\n",
      "Requirement already satisfied: packaging in c:\\users\\fujitsu\\appdata\\local\\programs\\python\\python38\\lib\\site-packages (from pipwin) (20.9)\n",
      "Collecting pySmartDL>=1.3.1\n",
      "  Downloading pySmartDL-1.3.4-py3-none-any.whl (20 kB)\n",
      "Collecting soupsieve>1.2\n",
      "  Downloading soupsieve-2.2.1-py3-none-any.whl (33 kB)\n",
      "Collecting pyjsparser>=2.5.1\n",
      "  Downloading pyjsparser-2.7.1.tar.gz (24 kB)\n",
      "  Preparing metadata (setup.py): started\n",
      "  Preparing metadata (setup.py): finished with status 'done'\n",
      "Collecting tzlocal>=1.2\n",
      "  Downloading tzlocal-4.0.2-py3-none-any.whl (19 kB)\n",
      "Requirement already satisfied: pyparsing>=2.0.2 in c:\\users\\fujitsu\\appdata\\local\\programs\\python\\python38\\lib\\site-packages (from packaging->pipwin) (2.4.7)\n",
      "Requirement already satisfied: idna<3,>=2.5 in c:\\users\\fujitsu\\appdata\\local\\programs\\python\\python38\\lib\\site-packages (from requests->pipwin) (2.10)\n",
      "Requirement already satisfied: urllib3<1.27,>=1.21.1 in c:\\users\\fujitsu\\appdata\\local\\programs\\python\\python38\\lib\\site-packages (from requests->pipwin) (1.26.4)\n",
      "Requirement already satisfied: certifi>=2017.4.17 in c:\\users\\fujitsu\\appdata\\local\\programs\\python\\python38\\lib\\site-packages (from requests->pipwin) (2020.12.5)\n",
      "Requirement already satisfied: chardet<5,>=3.0.2 in c:\\users\\fujitsu\\appdata\\local\\programs\\python\\python38\\lib\\site-packages (from requests->pipwin) (4.0.0)\n",
      "Collecting pytz-deprecation-shim\n",
      "  Downloading pytz_deprecation_shim-0.1.0.post0-py2.py3-none-any.whl (15 kB)\n",
      "Collecting tzdata\n",
      "  Downloading tzdata-2021.5-py2.py3-none-any.whl (339 kB)\n",
      "Collecting backports.zoneinfo\n",
      "  Downloading backports.zoneinfo-0.2.1-cp38-cp38-win_amd64.whl (38 kB)\n",
      "Building wheels for collected packages: pipwin, pyjsparser\n",
      "  Building wheel for pipwin (setup.py): started\n",
      "  Building wheel for pipwin (setup.py): finished with status 'done'\n",
      "  Created wheel for pipwin: filename=pipwin-0.5.1-py2.py3-none-any.whl size=8778 sha256=98844552e4d8c8d910bb98b92a0786164dfe71fcd50aa3f426186739433625de\n",
      "  Stored in directory: c:\\users\\fujitsu\\appdata\\local\\pip\\cache\\wheels\\94\\1b\\63\\6465d24b53c03f566cfb25a7a9b806b4b0e29c95d82ac189d8\n",
      "  Building wheel for pyjsparser (setup.py): started\n",
      "  Building wheel for pyjsparser (setup.py): finished with status 'done'\n",
      "  Created wheel for pyjsparser: filename=pyjsparser-2.7.1-py3-none-any.whl size=25998 sha256=dc6c5af966f772960a04c51476243287b77758496717e589e2fa15904f7d24d9\n",
      "  Stored in directory: c:\\users\\fujitsu\\appdata\\local\\pip\\cache\\wheels\\d5\\88\\34\\ccb5bb40eb3178a134eb293e6c363928c5bcfba0b91031db76\n",
      "Successfully built pipwin pyjsparser\n",
      "Installing collected packages: tzdata, backports.zoneinfo, pytz-deprecation-shim, tzlocal, soupsieve, pyjsparser, pySmartDL, pyprind, js2py, docopt, beautifulsoup4, pipwin\n",
      "Successfully installed backports.zoneinfo-0.2.1 beautifulsoup4-4.10.0 docopt-0.6.2 js2py-0.71 pipwin-0.5.1 pySmartDL-1.3.4 pyjsparser-2.7.1 pyprind-2.11.3 pytz-deprecation-shim-0.1.0.post0 soupsieve-2.2.1 tzdata-2021.5 tzlocal-4.0.2\n",
      "Building cache. Hang on . . .\n",
      "Done\n",
      "Package `pyaudio` found in cache\n",
      "Downloading package . . .\n",
      "https://download.lfd.uci.edu/pythonlibs/w6tyco5e/PyAudio-0.2.11-cp38-cp38-win_amd64.whl\n",
      "PyAudio-0.2.11-cp38-cp38-win_amd64.whl\n",
      "[*] 0 bytes / 110 kB @ 0 bytes/s [------------------] [0.0%, 0s left]   [*] 0 bytes / 110 kB @ 0 bytes/s [------------------] [0.0%, 0s left]   [*] 0 bytes / 110 kB @ 0 bytes/s [------------------] [0.0%, 0s left]   [*] 0 bytes / 110 kB @ 0 bytes/s [------------------] [0.0%, 0s left]   [*] 0 bytes / 110 kB @ 0 bytes/s [------------------] [0.0%, 0s left]   [*] 0 bytes / 110 kB @ 0 bytes/s [------------------] [0.0%, 0s left]   [*] 0 bytes / 110 kB @ 0 bytes/s [------------------] [0.0%, 0s left]   [*] 0 bytes / 110 kB @ 0 bytes/s [------------------] [0.0%, 0s left]   [*] 0 bytes / 110 kB @ 0 bytes/s [------------------] [0.0%, 0s left]   [*] 0 bytes / 110 kB @ 0 bytes/s [------------------] [0.0%, 0s left]   [*] 0 bytes / 110 kB @ 0 bytes/s [------------------] [0.0%, 0s left]   [*] 0 bytes / 110 kB @ 0 bytes/s [------------------] [0.0%, 0s left]   [*] 0 bytes / 110 kB @ 0 bytes/s [------------------] [0.0%, 0s left]   [*] 8 kB / 110 kB @ 6 kB/s [#-----------------] [7.3%, 0s left]   [*] 8 kB / 110 kB @ 5 kB/s [#-----------------] [7.3%, 0s left]   [*] 8 kB / 110 kB @ 5 kB/s [#-----------------] [7.3%, 0s left]   [*] 8 kB / 110 kB @ 5 kB/s [#-----------------] [7.3%, 0s left]   [*] 24 kB / 110 kB @ 13 kB/s [###---------------] [21.8%, 0s left]  [*] 24 kB / 110 kB @ 13 kB/s [###---------------] [21.8%, 0s left]  [*] 24 kB / 110 kB @ 12 kB/s [###---------------] [21.8%, 0s left]  [*] 24 kB / 110 kB @ 11 kB/s [###---------------] [21.8%, 0s left]  [*] 40 kB / 110 kB @ 18 kB/s [######------------] [36.4%, 0s left]  [*] 40 kB / 110 kB @ 17 kB/s [######------------] [36.4%, 0s left]  [*] 56 kB / 110 kB @ 23 kB/s [#########---------] [51.0%, 0s left]  [*] 56 kB / 110 kB @ 22 kB/s [#########---------] [51.0%, 0s left]  [*] 56 kB / 110 kB @ 22 kB/s [#########---------] [51.0%, 0s left]  [*] 72 kB / 110 kB @ 27 kB/s [###########-------] [65.5%, 0s left]  [*] 72 kB / 110 kB @ 26 kB/s [###########-------] [65.5%, 0s left]  [*] 88 kB / 110 kB @ 30 kB/s [##############----] [80.1%, 0s left]  [*] 88 kB / 110 kB @ 29 kB/s [##############----] [80.1%, 0s left]  Processing c:\\users\\fujitsu\\pipwin\\pyaudio-0.2.11-cp38-cp38-win_amd64.whl\n",
      "Installing collected packages: PyAudio\n",
      "Successfully installed PyAudio-0.2.11\n",
      "[*] 110 kB / 110 kB @ 29 kB/s [##################] [100%, 0s left]    \n"
     ]
    }
   ],
   "source": [
    "!pip install pipwin\n",
    "!pipwin install pyaudio"
   ]
  },
  {
   "cell_type": "code",
   "execution_count": 3,
   "id": "dbe99dad",
   "metadata": {},
   "outputs": [],
   "source": [
    "import librosa,soundfile"
   ]
  },
  {
   "cell_type": "code",
   "execution_count": 4,
   "id": "dd59afd3",
   "metadata": {},
   "outputs": [],
   "source": [
    "import numpy as np\n",
    "import pandas as pd\n"
   ]
  },
  {
   "cell_type": "code",
   "execution_count": 5,
   "id": "6ff39303",
   "metadata": {},
   "outputs": [],
   "source": [
    "# we need to use three features of a sound file, which are mfcc:Mel Frequency Cepsral Coefficient\n",
    "# which represents the short-term power spectrum of a sound \n",
    "# about mfccc:wikipedia link - https://en.wikipedia.org/wiki/Mel-frequency_cepstrum \n",
    "# 2nd feature is chroma: pertains to 12 different pitch classes\n",
    "# 3rd feature is mel: Mel spectrogram Frequency\n"
   ]
  },
  {
   "cell_type": "code",
   "execution_count": 6,
   "id": "d4f2d950",
   "metadata": {},
   "outputs": [],
   "source": [
    "# we need some to import some modules necessary to train a model\n",
    "from sklearn.model_selection import train_test_split\n",
    "from sklearn.metrics import accuracy_score\n"
   ]
  },
  {
   "cell_type": "code",
   "execution_count": 7,
   "id": "a52d3edd",
   "metadata": {},
   "outputs": [],
   "source": [
    "# we are going to use neural network for detecting stress or mood of a user\n",
    "# we are going to use MLPclassifier\n",
    "from sklearn.neural_network import MLPClassifier\n"
   ]
  },
  {
   "cell_type": "code",
   "execution_count": 9,
   "id": "5a052418",
   "metadata": {},
   "outputs": [],
   "source": [
    "# so we need to extract those three features from a sound file which are mfcc,chroma,mel\n",
    "# first parameter is the sound file name, and the rest three are boolean parameters \n",
    "def function_extracting_features(file,mfcc,chroma,mel):\n",
    "    file_sound = soundfile.SoundFile(file) \n",
    "    sample_rate = file_sound.samplerate \n",
    "    read_sound_file = file_sound.read(dtype = 'float32')\n",
    "    final = np.array([])\n",
    "    if chroma:\n",
    "        # if chroma is true then, we need to get the short time fourier transformation of read_sound_file\n",
    "        short_tft = np.abs(librosa.stft(read_sound_file))\n",
    "    if mfcc:\n",
    "        # if mfcc is true then call the librosa.feature.mfcc and get mean value of it\n",
    "        mfccs = np.mean(librosa.feature.mfcc(y=read_sound_file, sr=sample_rate, n_mfcc=40).T, axis=0)\n",
    "        final = np.hstack((final, mfcss))\n",
    "    if chroma:\n",
    "        chroma = np.mean(librosa.feature.chroma_stft(S=short_tft, sr=sample_rate).T, axis=0)\n",
    "        final = np.hstack((final,chroma))\n",
    "        \n",
    "    if mel:\n",
    "        mel_new = np.mean(librosa.feature.melspecrogram(read_sound_file, sr=sample_rate).T, axis=0)\n",
    "        final = np.hstack((final, mel_new))\n",
    "        \n",
    "    return final\n",
    "        \n",
    "    \n",
    "        \n",
    "        "
   ]
  },
  {
   "cell_type": "code",
   "execution_count": 11,
   "id": "72c3711b",
   "metadata": {},
   "outputs": [],
   "source": [
    "# now we will create a dictionary to hold numbers and emotions that are present in ravdess dataset\n",
    "\n",
    "feelings = {\n",
    "    '01':'neutral',\n",
    "    '02':'calm',\n",
    "    '03':'happy',\n",
    "    '04':'sad',\n",
    "    '05':'angry',\n",
    "    '06':'fearful',\n",
    "    '07':'disgust',\n",
    "    '08':'surprised'\n",
    "}\n"
   ]
  },
  {
   "cell_type": "code",
   "execution_count": null,
   "id": "02f65d58",
   "metadata": {},
   "outputs": [],
   "source": [
    "# now we should load the ravdess data and the number in the feelings dictionary and the data files \n",
    "# contain the number with dashed in between eg: 01-02-01-07.wvl\n",
    "import os,glob,pickle\n",
    "def load_data_from_dataset(test_size=0.2):\n",
    "    X=[]\n",
    "    Y=[]\n",
    "    for sound_file in glob.glob(\"E:\\\\vjhackaton\\\\VJH_012\\\\dataset\\\\Actor_*\\\\*.wav\"):\n",
    "        sound_file_name = os.path.basename(sound_file)\n",
    "        feeling = feelings[sound_file_name.split(\"-\")[2]]\n",
    "        \n",
    "        \n",
    "        "
   ]
  }
 ],
 "metadata": {
  "kernelspec": {
   "display_name": "Python 3",
   "language": "python",
   "name": "python3"
  },
  "language_info": {
   "codemirror_mode": {
    "name": "ipython",
    "version": 3
   },
   "file_extension": ".py",
   "mimetype": "text/x-python",
   "name": "python",
   "nbconvert_exporter": "python",
   "pygments_lexer": "ipython3",
   "version": "3.8.4"
  }
 },
 "nbformat": 4,
 "nbformat_minor": 5
}
